{
 "cells": [
  {
   "cell_type": "markdown",
   "metadata": {},
   "source": [
    "<H1>MyNotebook as a first step in Capstone Project</H1>"
   ]
  },
  {
   "cell_type": "code",
   "execution_count": 15,
   "metadata": {},
   "outputs": [],
   "source": [
    "import itertools\n",
    "import numpy as np\n",
    "import matplotlib.pyplot as plt\n",
    "from matplotlib.ticker import NullFormatter\n",
    "import pandas as pd\n",
    "import numpy as np\n",
    "import matplotlib.ticker as ticker\n",
    "from sklearn import preprocessing\n",
    "%matplotlib inline"
   ]
  },
  {
   "cell_type": "code",
   "execution_count": 16,
   "metadata": {},
   "outputs": [
    {
     "name": "stdout",
     "output_type": "stream",
     "text": [
      "Hello Capstone Project Course!\n"
     ]
    }
   ],
   "source": [
    "print(\"Hello Capstone Project Course!\")"
   ]
  },
  {
   "cell_type": "code",
   "execution_count": 17,
   "metadata": {},
   "outputs": [
    {
     "name": "stderr",
     "output_type": "stream",
     "text": [
      "C:\\Users\\sanja\\Anaconda3\\lib\\site-packages\\IPython\\core\\interactiveshell.py:3058: DtypeWarning: Columns (3) have mixed types. Specify dtype option on import or set low_memory=False.\n",
      "  interactivity=interactivity, compiler=compiler, result=result)\n"
     ]
    }
   ],
   "source": [
    "df=pd.read_csv(\"collisions.csv.csv\",index_col=\"LOCATION\")"
   ]
  },
  {
   "cell_type": "code",
   "execution_count": 19,
   "metadata": {
    "scrolled": true
   },
   "outputs": [
    {
     "data": {
      "text/html": [
       "<div>\n",
       "<style scoped>\n",
       "    .dataframe tbody tr th:only-of-type {\n",
       "        vertical-align: middle;\n",
       "    }\n",
       "\n",
       "    .dataframe tbody tr th {\n",
       "        vertical-align: top;\n",
       "    }\n",
       "\n",
       "    .dataframe thead th {\n",
       "        text-align: right;\n",
       "    }\n",
       "</style>\n",
       "<table border=\"1\" class=\"dataframe\">\n",
       "  <thead>\n",
       "    <tr style=\"text-align: right;\">\n",
       "      <th></th>\n",
       "      <th>CRASH DATE</th>\n",
       "      <th>CRASH TIME</th>\n",
       "      <th>BOROUGH</th>\n",
       "      <th>ZIP CODE</th>\n",
       "      <th>LATITUDE</th>\n",
       "      <th>LONGITUDE</th>\n",
       "      <th>ON STREET NAME</th>\n",
       "      <th>CROSS STREET NAME</th>\n",
       "      <th>OFF STREET NAME</th>\n",
       "      <th>NUMBER OF PERSONS INJURED</th>\n",
       "      <th>...</th>\n",
       "      <th>CONTRIBUTING FACTOR VEHICLE 2</th>\n",
       "      <th>CONTRIBUTING FACTOR VEHICLE 3</th>\n",
       "      <th>CONTRIBUTING FACTOR VEHICLE 4</th>\n",
       "      <th>CONTRIBUTING FACTOR VEHICLE 5</th>\n",
       "      <th>COLLISION_ID</th>\n",
       "      <th>VEHICLE TYPE CODE 1</th>\n",
       "      <th>VEHICLE TYPE CODE 2</th>\n",
       "      <th>VEHICLE TYPE CODE 3</th>\n",
       "      <th>VEHICLE TYPE CODE 4</th>\n",
       "      <th>VEHICLE TYPE CODE 5</th>\n",
       "    </tr>\n",
       "    <tr>\n",
       "      <th>LOCATION</th>\n",
       "      <th></th>\n",
       "      <th></th>\n",
       "      <th></th>\n",
       "      <th></th>\n",
       "      <th></th>\n",
       "      <th></th>\n",
       "      <th></th>\n",
       "      <th></th>\n",
       "      <th></th>\n",
       "      <th></th>\n",
       "      <th></th>\n",
       "      <th></th>\n",
       "      <th></th>\n",
       "      <th></th>\n",
       "      <th></th>\n",
       "      <th></th>\n",
       "      <th></th>\n",
       "      <th></th>\n",
       "      <th></th>\n",
       "      <th></th>\n",
       "      <th></th>\n",
       "    </tr>\n",
       "  </thead>\n",
       "  <tbody>\n",
       "    <tr>\n",
       "      <td>(40.671204, -73.90051)</td>\n",
       "      <td>07/26/2018</td>\n",
       "      <td>22:14</td>\n",
       "      <td>BROOKLYN</td>\n",
       "      <td>11207</td>\n",
       "      <td>40.671204</td>\n",
       "      <td>-73.900510</td>\n",
       "      <td>PITKIN AVENUE</td>\n",
       "      <td>HINSDALE STREET</td>\n",
       "      <td>NaN</td>\n",
       "      <td>0.0</td>\n",
       "      <td>...</td>\n",
       "      <td>Driver Inattention/Distraction</td>\n",
       "      <td>NaN</td>\n",
       "      <td>NaN</td>\n",
       "      <td>NaN</td>\n",
       "      <td>3949500</td>\n",
       "      <td>Station Wagon/Sport Utility Vehicle</td>\n",
       "      <td>Sedan</td>\n",
       "      <td>NaN</td>\n",
       "      <td>NaN</td>\n",
       "      <td>NaN</td>\n",
       "    </tr>\n",
       "    <tr>\n",
       "      <td>NaN</td>\n",
       "      <td>08/14/2018</td>\n",
       "      <td>5:45</td>\n",
       "      <td>MANHATTAN</td>\n",
       "      <td>10019</td>\n",
       "      <td>NaN</td>\n",
       "      <td>NaN</td>\n",
       "      <td>WEST 59 STREET</td>\n",
       "      <td>5 AVENUE</td>\n",
       "      <td>NaN</td>\n",
       "      <td>0.0</td>\n",
       "      <td>...</td>\n",
       "      <td>Unspecified</td>\n",
       "      <td>NaN</td>\n",
       "      <td>NaN</td>\n",
       "      <td>NaN</td>\n",
       "      <td>3961858</td>\n",
       "      <td>Station Wagon/Sport Utility Vehicle</td>\n",
       "      <td>Sedan</td>\n",
       "      <td>NaN</td>\n",
       "      <td>NaN</td>\n",
       "      <td>NaN</td>\n",
       "    </tr>\n",
       "    <tr>\n",
       "      <td>(40.792183, -73.968025)</td>\n",
       "      <td>08/03/2018</td>\n",
       "      <td>12:45</td>\n",
       "      <td>NaN</td>\n",
       "      <td>NaN</td>\n",
       "      <td>40.792183</td>\n",
       "      <td>-73.968025</td>\n",
       "      <td>WEST 95 STREET</td>\n",
       "      <td>NaN</td>\n",
       "      <td>NaN</td>\n",
       "      <td>0.0</td>\n",
       "      <td>...</td>\n",
       "      <td>Unspecified</td>\n",
       "      <td>NaN</td>\n",
       "      <td>NaN</td>\n",
       "      <td>NaN</td>\n",
       "      <td>3955325</td>\n",
       "      <td>Sedan</td>\n",
       "      <td>Sedan</td>\n",
       "      <td>NaN</td>\n",
       "      <td>NaN</td>\n",
       "      <td>NaN</td>\n",
       "    </tr>\n",
       "    <tr>\n",
       "      <td>(40.720592, -73.74913)</td>\n",
       "      <td>08/16/2018</td>\n",
       "      <td>18:00</td>\n",
       "      <td>QUEENS</td>\n",
       "      <td>11428</td>\n",
       "      <td>40.720592</td>\n",
       "      <td>-73.749130</td>\n",
       "      <td>91 AVENUE</td>\n",
       "      <td>212 STREET</td>\n",
       "      <td>NaN</td>\n",
       "      <td>0.0</td>\n",
       "      <td>...</td>\n",
       "      <td>Unspecified</td>\n",
       "      <td>NaN</td>\n",
       "      <td>NaN</td>\n",
       "      <td>NaN</td>\n",
       "      <td>3962406</td>\n",
       "      <td>Station Wagon/Sport Utility Vehicle</td>\n",
       "      <td>Station Wagon/Sport Utility Vehicle</td>\n",
       "      <td>NaN</td>\n",
       "      <td>NaN</td>\n",
       "      <td>NaN</td>\n",
       "    </tr>\n",
       "    <tr>\n",
       "      <td>(40.70499, -73.91736)</td>\n",
       "      <td>07/26/2018</td>\n",
       "      <td>15:00</td>\n",
       "      <td>NaN</td>\n",
       "      <td>NaN</td>\n",
       "      <td>40.704990</td>\n",
       "      <td>-73.917360</td>\n",
       "      <td>STOCKHOLM STREET</td>\n",
       "      <td>NaN</td>\n",
       "      <td>NaN</td>\n",
       "      <td>0.0</td>\n",
       "      <td>...</td>\n",
       "      <td>NaN</td>\n",
       "      <td>NaN</td>\n",
       "      <td>NaN</td>\n",
       "      <td>NaN</td>\n",
       "      <td>3948814</td>\n",
       "      <td>Sedan</td>\n",
       "      <td>NaN</td>\n",
       "      <td>NaN</td>\n",
       "      <td>NaN</td>\n",
       "      <td>NaN</td>\n",
       "    </tr>\n",
       "  </tbody>\n",
       "</table>\n",
       "<p>5 rows × 28 columns</p>\n",
       "</div>"
      ],
      "text/plain": [
       "                         CRASH DATE CRASH TIME    BOROUGH ZIP CODE   LATITUDE  \\\n",
       "LOCATION                                                                        \n",
       "(40.671204, -73.90051)   07/26/2018      22:14   BROOKLYN    11207  40.671204   \n",
       "NaN                      08/14/2018       5:45  MANHATTAN    10019        NaN   \n",
       "(40.792183, -73.968025)  08/03/2018      12:45        NaN      NaN  40.792183   \n",
       "(40.720592, -73.74913)   08/16/2018      18:00     QUEENS    11428  40.720592   \n",
       "(40.70499, -73.91736)    07/26/2018      15:00        NaN      NaN  40.704990   \n",
       "\n",
       "                         LONGITUDE                    ON STREET NAME  \\\n",
       "LOCATION                                                               \n",
       "(40.671204, -73.90051)  -73.900510  PITKIN AVENUE                      \n",
       "NaN                            NaN  WEST 59 STREET                     \n",
       "(40.792183, -73.968025) -73.968025  WEST 95 STREET                     \n",
       "(40.720592, -73.74913)  -73.749130  91 AVENUE                          \n",
       "(40.70499, -73.91736)   -73.917360  STOCKHOLM STREET                   \n",
       "\n",
       "                        CROSS STREET NAME OFF STREET NAME  \\\n",
       "LOCATION                                                    \n",
       "(40.671204, -73.90051)    HINSDALE STREET             NaN   \n",
       "NaN                              5 AVENUE             NaN   \n",
       "(40.792183, -73.968025)               NaN             NaN   \n",
       "(40.720592, -73.74913)         212 STREET             NaN   \n",
       "(40.70499, -73.91736)                 NaN             NaN   \n",
       "\n",
       "                         NUMBER OF PERSONS INJURED  ...  \\\n",
       "LOCATION                                            ...   \n",
       "(40.671204, -73.90051)                         0.0  ...   \n",
       "NaN                                            0.0  ...   \n",
       "(40.792183, -73.968025)                        0.0  ...   \n",
       "(40.720592, -73.74913)                         0.0  ...   \n",
       "(40.70499, -73.91736)                          0.0  ...   \n",
       "\n",
       "                          CONTRIBUTING FACTOR VEHICLE 2  \\\n",
       "LOCATION                                                  \n",
       "(40.671204, -73.90051)   Driver Inattention/Distraction   \n",
       "NaN                                         Unspecified   \n",
       "(40.792183, -73.968025)                     Unspecified   \n",
       "(40.720592, -73.74913)                      Unspecified   \n",
       "(40.70499, -73.91736)                               NaN   \n",
       "\n",
       "                         CONTRIBUTING FACTOR VEHICLE 3  \\\n",
       "LOCATION                                                 \n",
       "(40.671204, -73.90051)                             NaN   \n",
       "NaN                                                NaN   \n",
       "(40.792183, -73.968025)                            NaN   \n",
       "(40.720592, -73.74913)                             NaN   \n",
       "(40.70499, -73.91736)                              NaN   \n",
       "\n",
       "                         CONTRIBUTING FACTOR VEHICLE 4  \\\n",
       "LOCATION                                                 \n",
       "(40.671204, -73.90051)                             NaN   \n",
       "NaN                                                NaN   \n",
       "(40.792183, -73.968025)                            NaN   \n",
       "(40.720592, -73.74913)                             NaN   \n",
       "(40.70499, -73.91736)                              NaN   \n",
       "\n",
       "                         CONTRIBUTING FACTOR VEHICLE 5  COLLISION_ID  \\\n",
       "LOCATION                                                               \n",
       "(40.671204, -73.90051)                             NaN       3949500   \n",
       "NaN                                                NaN       3961858   \n",
       "(40.792183, -73.968025)                            NaN       3955325   \n",
       "(40.720592, -73.74913)                             NaN       3962406   \n",
       "(40.70499, -73.91736)                              NaN       3948814   \n",
       "\n",
       "                                         VEHICLE TYPE CODE 1  \\\n",
       "LOCATION                                                       \n",
       "(40.671204, -73.90051)   Station Wagon/Sport Utility Vehicle   \n",
       "NaN                      Station Wagon/Sport Utility Vehicle   \n",
       "(40.792183, -73.968025)                                Sedan   \n",
       "(40.720592, -73.74913)   Station Wagon/Sport Utility Vehicle   \n",
       "(40.70499, -73.91736)                                  Sedan   \n",
       "\n",
       "                                         VEHICLE TYPE CODE 2  \\\n",
       "LOCATION                                                       \n",
       "(40.671204, -73.90051)                                 Sedan   \n",
       "NaN                                                    Sedan   \n",
       "(40.792183, -73.968025)                                Sedan   \n",
       "(40.720592, -73.74913)   Station Wagon/Sport Utility Vehicle   \n",
       "(40.70499, -73.91736)                                    NaN   \n",
       "\n",
       "                        VEHICLE TYPE CODE 3 VEHICLE TYPE CODE 4  \\\n",
       "LOCATION                                                          \n",
       "(40.671204, -73.90051)                  NaN                 NaN   \n",
       "NaN                                     NaN                 NaN   \n",
       "(40.792183, -73.968025)                 NaN                 NaN   \n",
       "(40.720592, -73.74913)                  NaN                 NaN   \n",
       "(40.70499, -73.91736)                   NaN                 NaN   \n",
       "\n",
       "                        VEHICLE TYPE CODE 5  \n",
       "LOCATION                                     \n",
       "(40.671204, -73.90051)                  NaN  \n",
       "NaN                                     NaN  \n",
       "(40.792183, -73.968025)                 NaN  \n",
       "(40.720592, -73.74913)                  NaN  \n",
       "(40.70499, -73.91736)                   NaN  \n",
       "\n",
       "[5 rows x 28 columns]"
      ]
     },
     "execution_count": 19,
     "metadata": {},
     "output_type": "execute_result"
    }
   ],
   "source": [
    "df.head()"
   ]
  },
  {
   "cell_type": "code",
   "execution_count": 20,
   "metadata": {},
   "outputs": [
    {
     "name": "stdout",
     "output_type": "stream",
     "text": [
      "Collecting package metadata (current_repodata.json): ...working... done\n",
      "Solving environment: ...working... done\n",
      "\n",
      "# All requested packages already installed.\n",
      "\n"
     ]
    }
   ],
   "source": [
    "!conda install -c anaconda seaborn -y"
   ]
  },
  {
   "cell_type": "code",
   "execution_count": 26,
   "metadata": {
    "scrolled": true
   },
   "outputs": [
    {
     "data": {
      "text/plain": [
       "Index(['CRASH DATE', 'CRASH TIME', 'BOROUGH', 'ZIP CODE', 'LATITUDE',\n",
       "       'LONGITUDE', 'ON STREET NAME', 'CROSS STREET NAME', 'OFF STREET NAME',\n",
       "       'NUMBER OF PERSONS INJURED', 'NUMBER OF PERSONS KILLED',\n",
       "       'NUMBER OF PEDESTRIANS INJURED', 'NUMBER OF PEDESTRIANS KILLED',\n",
       "       'NUMBER OF CYCLIST INJURED', 'NUMBER OF CYCLIST KILLED',\n",
       "       'NUMBER OF MOTORIST INJURED', 'NUMBER OF MOTORIST KILLED',\n",
       "       'CONTRIBUTING FACTOR VEHICLE 1', 'CONTRIBUTING FACTOR VEHICLE 2',\n",
       "       'CONTRIBUTING FACTOR VEHICLE 3', 'CONTRIBUTING FACTOR VEHICLE 4',\n",
       "       'CONTRIBUTING FACTOR VEHICLE 5', 'COLLISION_ID', 'VEHICLE TYPE CODE 1',\n",
       "       'VEHICLE TYPE CODE 2', 'VEHICLE TYPE CODE 3', 'VEHICLE TYPE CODE 4',\n",
       "       'VEHICLE TYPE CODE 5'],\n",
       "      dtype='object')"
      ]
     },
     "execution_count": 26,
     "metadata": {},
     "output_type": "execute_result"
    }
   ],
   "source": [
    "df.columns\n"
   ]
  },
  {
   "cell_type": "markdown",
   "metadata": {},
   "source": [
    "df.groupby(['CRASH DATE'])['CRASH TIME'].value_counts(normalize=True)"
   ]
  },
  {
   "cell_type": "code",
   "execution_count": 29,
   "metadata": {},
   "outputs": [
    {
     "data": {
      "text/plain": [
       "array([11207.0, 10019.0, nan, 11428.0, nan], dtype=object)"
      ]
     },
     "execution_count": 29,
     "metadata": {},
     "output_type": "execute_result"
    }
   ],
   "source": [
    "Feature = df[['CRASH DATE','ZIP CODE','ON STREET NAME','OFF STREET NAME','CROSS STREET NAME']]\n",
    "\n",
    "Feature.head()\n",
    "X=Feature\n",
    "X[0:5]\n",
    "y = df['ZIP CODE'].values\n",
    "y[0:5]"
   ]
  },
  {
   "cell_type": "code",
   "execution_count": 28,
   "metadata": {},
   "outputs": [
    {
     "name": "stdout",
     "output_type": "stream",
     "text": [
      "Train set: (1371610, 5) (1371610,)\n",
      "Test set: (342903, 5) (342903,)\n"
     ]
    }
   ],
   "source": [
    "from sklearn.model_selection import train_test_split\n",
    "X_train, X_test, y_train, y_test = train_test_split( X, y, test_size=0.2, random_state=4)\n",
    "print ('Train set:', X_train.shape,  y_train.shape)\n",
    "print ('Test set:', X_test.shape,  y_test.shape)"
   ]
  },
  {
   "cell_type": "code",
   "execution_count": null,
   "metadata": {},
   "outputs": [],
   "source": []
  },
  {
   "cell_type": "code",
   "execution_count": null,
   "metadata": {},
   "outputs": [],
   "source": []
  },
  {
   "cell_type": "code",
   "execution_count": null,
   "metadata": {},
   "outputs": [],
   "source": []
  },
  {
   "cell_type": "code",
   "execution_count": null,
   "metadata": {},
   "outputs": [],
   "source": []
  }
 ],
 "metadata": {
  "kernelspec": {
   "display_name": "Python 3",
   "language": "python",
   "name": "python3"
  },
  "language_info": {
   "codemirror_mode": {
    "name": "ipython",
    "version": 3
   },
   "file_extension": ".py",
   "mimetype": "text/x-python",
   "name": "python",
   "nbconvert_exporter": "python",
   "pygments_lexer": "ipython3",
   "version": "3.7.4"
  }
 },
 "nbformat": 4,
 "nbformat_minor": 2
}
